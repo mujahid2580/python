{
 "cells": [
  {
   "cell_type": "code",
   "execution_count": 12,
   "metadata": {},
   "outputs": [],
   "source": [
    "# with open (\"0 pattern2.ipynb.py\",\"w\") as a:\n",
    "#     pass # Here file will overwrites so be carefull while writing the same reading file"
   ]
  },
  {
   "cell_type": "raw",
   "metadata": {},
   "source": [
    "0 pattern2 file is not there in my system it is created if we write in this tab output will be generated in\n",
    "the 0 pattern2 file"
   ]
  },
  {
   "cell_type": "code",
   "execution_count": 18,
   "metadata": {},
   "outputs": [],
   "source": [
    "with open (\"0 pattern2.ipynb.py\",\"w\") as g:\n",
    "    g.write(\"Test\")\n",
    "    g.seek(0)\n",
    "    g.write(\"rest\") # output T is replaced with r because of seek"
   ]
  },
  {
   "cell_type": "code",
   "execution_count": 1,
   "metadata": {},
   "outputs": [],
   "source": [
    "with open (\"0 pattern.ipynb.py\",\"a\") as g:\n",
    "    g.write(\"This is line C\\n\")"
   ]
  },
  {
   "cell_type": "code",
   "execution_count": null,
   "metadata": {},
   "outputs": [],
   "source": []
  }
 ],
 "metadata": {
  "kernelspec": {
   "display_name": "Python 3",
   "language": "python",
   "name": "python3"
  },
  "language_info": {
   "codemirror_mode": {
    "name": "ipython",
    "version": 3
   },
   "file_extension": ".py",
   "mimetype": "text/x-python",
   "name": "python",
   "nbconvert_exporter": "python",
   "pygments_lexer": "ipython3",
   "version": "3.7.5"
  }
 },
 "nbformat": 4,
 "nbformat_minor": 4
}
