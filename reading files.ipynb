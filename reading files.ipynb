{
 "cells": [
  {
   "cell_type": "code",
   "execution_count": 1,
   "metadata": {},
   "outputs": [
    {
     "name": "stdout",
     "output_type": "stream",
     "text": [
      "<_io.TextIOWrapper name='data.txt' mode='r' encoding='cp1252'>\n",
      "data.gov.in\n",
      "nyc.com\n",
      "machine learning \n",
      "data science\n"
     ]
    }
   ],
   "source": [
    "f= open(\"data.txt\",\"r\")\n",
    "print(f)\n",
    "for i in f:\n",
    "    i_contents = f.read()\n",
    "    print(i_contents)\n",
    "f.close()"
   ]
  },
  {
   "cell_type": "code",
   "execution_count": 2,
   "metadata": {},
   "outputs": [
    {
     "name": "stdout",
     "output_type": "stream",
     "text": [
      "data.gov\n",
      "data.gov.in\n",
      "nyc.com\n",
      "machine learning \n",
      "data science\n"
     ]
    }
   ],
   "source": [
    "with open(\"data.txt\",\"r\") as f:\n",
    "    f_contents = f.read()\n",
    "    print(f_contents)"
   ]
  },
  {
   "cell_type": "code",
   "execution_count": 54,
   "metadata": {},
   "outputs": [
    {
     "name": "stdout",
     "output_type": "stream",
     "text": [
      "<_io.TextIOWrapper name='0 pattern.ipynb.py' mode='r' encoding='cp1252'>\n",
      "Python 3.7.5 (tags/v3.7.5:5c02a39a0b, Oct 15 2019, 00:11:34) [MSC v.1916 64 bit (AMD64)] on win32\n",
      "Type \"help\", \"copyright\", \"credits\" or \"license()\" for more information.\n",
      ">>> for i in range(6):\n",
      "    for j in range(6):\n",
      "        if (j==0 or j ==5 ) and (i>0 and i<5) or (i==0 or i==5) and (j>1 and j<4):\n",
      "            print(\"*\",end=\"\")\n",
      "        else:\n",
      "            print(end=\" \") \n",
      "    print()\n",
      "\n",
      "    \n",
      "  **  \n",
      "*    *\n",
      "*    *\n",
      "*    *\n",
      "*    *\n",
      "  **  \n",
      ">>> \n",
      "\n"
     ]
    }
   ],
   "source": [
    "g = open(\"0 pattern.ipynb.py\",\"r\")\n",
    "print(g)\n",
    "g_contents = g.read()\n",
    "print(g_contents)\n",
    "g.close()"
   ]
  },
  {
   "cell_type": "code",
   "execution_count": 15,
   "metadata": {},
   "outputs": [
    {
     "name": "stdout",
     "output_type": "stream",
     "text": [
      "Python 3.7.5 (tags/v3.7.5:5c02a39a0b, Oct 15 2019, 00:11:34) [MSC v.1916 64 bit (AMD64)] on win32\n",
      "Type \"help\", \"copyright\", \"credits\" or \"license()\" for more information.\n",
      ">>> for i in range(6):\n",
      "    for j in range(6):\n",
      "        if (j==0 or j ==5 ) and (i>0 and i<5) or (i==0 or i==5) and (j>1 and j<4):\n",
      "            print(\"*\",end=\"\")\n",
      "        else:\n",
      "            print(end=\" \") \n",
      "    print()\n",
      "\n",
      "    \n",
      "  **  \n",
      "*    *\n",
      "*    *\n",
      "*    *\n",
      "*    *\n",
      "  **  \n",
      ">>> \n",
      "\n"
     ]
    }
   ],
   "source": [
    "with open(\"0 pattern.ipynb.py\") as g:\n",
    "    g_contents=g.read()\n",
    "    print(g_contents)"
   ]
  },
  {
   "cell_type": "markdown",
   "metadata": {},
   "source": [
    "# How to selct select particular line in a file\n",
    "### Instead of read type readlines (Here all lines in a file will be printed with /n)"
   ]
  },
  {
   "cell_type": "code",
   "execution_count": 16,
   "metadata": {},
   "outputs": [
    {
     "name": "stdout",
     "output_type": "stream",
     "text": [
      "['Python 3.7.5 (tags/v3.7.5:5c02a39a0b, Oct 15 2019, 00:11:34) [MSC v.1916 64 bit (AMD64)] on win32\\n', 'Type \"help\", \"copyright\", \"credits\" or \"license()\" for more information.\\n', '>>> for i in range(6):\\n', '    for j in range(6):\\n', '        if (j==0 or j ==5 ) and (i>0 and i<5) or (i==0 or i==5) and (j>1 and j<4):\\n', '            print(\"*\",end=\"\")\\n', '        else:\\n', '            print(end=\" \") \\n', '    print()\\n', '\\n', '    \\n', '  **  \\n', '*    *\\n', '*    *\\n', '*    *\\n', '*    *\\n', '  **  \\n', '>>> \\n']\n"
     ]
    }
   ],
   "source": [
    "with open(\"0 pattern.ipynb.py\") as g:\n",
    "    g_contents=g.readlines()\n",
    "    print(g_contents)"
   ]
  },
  {
   "cell_type": "markdown",
   "metadata": {},
   "source": [
    "### So to remove /n type readline "
   ]
  },
  {
   "cell_type": "code",
   "execution_count": 22,
   "metadata": {},
   "outputs": [
    {
     "name": "stdout",
     "output_type": "stream",
     "text": [
      "Python 3.7.5 (tags/v3.7.5:5c02a39a0b, Oct 15 2019, 00:11:34) [MSC v.1916 64 bit (AMD64)] on win32\n",
      "Type \"help\", \"copyright\", \"credits\" or \"license()\" for more information.\n",
      ">>> for i in range(6):\n",
      "    for j in range(6):\n"
     ]
    }
   ],
   "source": [
    "with open(\"0 pattern.ipynb.py\") as g:\n",
    "    g_contents=g.readline()\n",
    "    print(g_contents,end=\"\")\n",
    "    \n",
    "    g_contents=g.readline()\n",
    "    print(g_contents,end=\"\")\n",
    "    \n",
    "    g_contents=g.readline()\n",
    "    print(g_contents,end=\"\")\n",
    "    \n",
    "    g_contents=g.readline()\n",
    "    print(g_contents,end=\"\")"
   ]
  },
  {
   "cell_type": "markdown",
   "metadata": {},
   "source": [
    "### As above we seen for one line of output we have to give two lines of input instead of that use following method"
   ]
  },
  {
   "cell_type": "markdown",
   "metadata": {},
   "source": [
    "### If there is a large file you cannot able to type everytime readline for that use iteration or loops"
   ]
  },
  {
   "cell_type": "code",
   "execution_count": 27,
   "metadata": {},
   "outputs": [
    {
     "name": "stdout",
     "output_type": "stream",
     "text": [
      "Python 3.7.5 (tags/v3.7.5:5c02a39a0b, Oct 15 2019, 00:11:34) [MSC v.1916 64 bit (AMD64)] on win32\n",
      "\n",
      "Type \"help\", \"copyright\", \"credits\" or \"license()\" for more information.\n",
      "\n",
      ">>> for i in range(6):\n",
      "\n",
      "    for j in range(6):\n",
      "\n",
      "        if (j==0 or j ==5 ) and (i>0 and i<5) or (i==0 or i==5) and (j>1 and j<4):\n",
      "\n",
      "            print(\"*\",end=\"\")\n",
      "\n",
      "        else:\n",
      "\n",
      "            print(end=\" \") \n",
      "\n",
      "    print()\n",
      "\n",
      "\n",
      "\n",
      "    \n",
      "\n",
      "  **  \n",
      "\n",
      "*    *\n",
      "\n",
      "*    *\n",
      "\n",
      "*    *\n",
      "\n",
      "*    *\n",
      "\n",
      "  **  \n",
      "\n",
      ">>> \n",
      "\n"
     ]
    }
   ],
   "source": [
    "with open(\"0 pattern.ipynb.py\") as g:\n",
    "    for line in g:\n",
    "        print(line)"
   ]
  },
  {
   "cell_type": "markdown",
   "metadata": {},
   "source": [
    "#### As we seen above output has extra gap in between line to line so to remove that we use end"
   ]
  },
  {
   "cell_type": "code",
   "execution_count": 28,
   "metadata": {},
   "outputs": [
    {
     "name": "stdout",
     "output_type": "stream",
     "text": [
      "Python 3.7.5 (tags/v3.7.5:5c02a39a0b, Oct 15 2019, 00:11:34) [MSC v.1916 64 bit (AMD64)] on win32\n",
      "Type \"help\", \"copyright\", \"credits\" or \"license()\" for more information.\n",
      ">>> for i in range(6):\n",
      "    for j in range(6):\n",
      "        if (j==0 or j ==5 ) and (i>0 and i<5) or (i==0 or i==5) and (j>1 and j<4):\n",
      "            print(\"*\",end=\"\")\n",
      "        else:\n",
      "            print(end=\" \") \n",
      "    print()\n",
      "\n",
      "    \n",
      "  **  \n",
      "*    *\n",
      "*    *\n",
      "*    *\n",
      "*    *\n",
      "  **  \n",
      ">>> \n"
     ]
    }
   ],
   "source": [
    "with open(\"0 pattern.ipynb.py\") as g:\n",
    "    for line in g:\n",
    "        print(line,end=\"\")"
   ]
  },
  {
   "cell_type": "code",
   "execution_count": 30,
   "metadata": {},
   "outputs": [
    {
     "name": "stdout",
     "output_type": "stream",
     "text": [
      "Python 3.7.5 (tags/v3.7.5:5c02a39a0b, Oct 15 2019, 00:11:34) [MSC v.1916 64 bit (AMD64)] on win32\n",
      "Ty\n"
     ]
    }
   ],
   "source": [
    "with open(\"0 pattern.ipynb.py\") as g:\n",
    "    g_contents=g.read(100) #Here 100 represents number of characters\n",
    "    print(g_contents)"
   ]
  },
  {
   "cell_type": "code",
   "execution_count": 38,
   "metadata": {},
   "outputs": [
    {
     "name": "stdout",
     "output_type": "stream",
     "text": [
      "Python 3.7.5 (tags/v3.7.5:5c02a39a0b, Oct 15 2019, 00:11:34) [MSC v.1916 64 bit (AMD64)] on win32\n",
      "Ty/pe \"help\", \"copyright\", \"credits\" or \"license()\" for more information.\n",
      ">>> for i in range(6):\n",
      "    fo/r j in range(6):\n",
      "        if (j==0 or j ==5 ) and (i>0 and i<5) or (i==0 or i==5) and (j>1 and j<4):\n",
      "/            print(\"*\",end=\"\")\n",
      "        else:\n",
      "            print(end=\" \") \n",
      "    print()\n",
      "\n",
      "    \n",
      "  **  \n",
      "*  /  *\n",
      "*    *\n",
      "*    *\n",
      "*    *\n",
      "  **  \n",
      ">>> \n",
      "/"
     ]
    }
   ],
   "source": [
    "with open(\"0 pattern.ipynb.py\") as g:\n",
    "    size_to_read = 100\n",
    "    g_contents=g.read(100) \n",
    "    while len(g_contents)>0:\n",
    "        print(g_contents,end=\"/\") # for every 100 characters once / is printed\n",
    "        g_contents=g.read(size_to_read)"
   ]
  },
  {
   "cell_type": "code",
   "execution_count": 43,
   "metadata": {},
   "outputs": [
    {
     "name": "stdout",
     "output_type": "stream",
     "text": [
      "Python 3.7\n",
      "10\n"
     ]
    }
   ],
   "source": [
    "with open(\"0 pattern.ipynb.py\") as g:\n",
    "    size_to_read = 10\n",
    "    g_contents=g.read(size_to_read) \n",
    "#     print(g_contents)\n",
    "#     g_contents=g.read(size_to_read) \n",
    "    print(g_contents)\n",
    "    print(g.tell()) # Here tell function tells us how many characters we selected"
   ]
  },
  {
   "cell_type": "code",
   "execution_count": 44,
   "metadata": {},
   "outputs": [
    {
     "name": "stdout",
     "output_type": "stream",
     "text": [
      "Python 3.7\n",
      ".5 (tags/v\n"
     ]
    }
   ],
   "source": [
    "with open(\"0 pattern.ipynb.py\") as g:\n",
    "    size_to_read = 10\n",
    "    g_contents=g.read(size_to_read) \n",
    "    print(g_contents)\n",
    "    g_contents=g.read(size_to_read) \n",
    "    print(g_contents) # Here upto 20 characters were printed and after 10 characters it printed rest of 10"
   ]
  },
  {
   "cell_type": "code",
   "execution_count": 47,
   "metadata": {},
   "outputs": [
    {
     "name": "stdout",
     "output_type": "stream",
     "text": [
      "Python 3.7\n",
      "Python 3.7\n"
     ]
    }
   ],
   "source": [
    "with open(\"0 pattern.ipynb.py\") as g:\n",
    "    size_to_read = 10\n",
    "    g_contents=g.read(size_to_read) \n",
    "    print(g_contents)\n",
    "    g.seek(0) # Here seek function is used to take from begining after printing of 10 char\n",
    "    g_contents=g.read(size_to_read) # After 10 characters it didnt print the rest of 10 \n",
    "    print(g_contents) # insteda of that it printed from stating"
   ]
  },
  {
   "cell_type": "code",
   "execution_count": 50,
   "metadata": {},
   "outputs": [
    {
     "ename": "UnsupportedOperation",
     "evalue": "not writable",
     "output_type": "error",
     "traceback": [
      "\u001b[1;31m---------------------------------------------------------------------------\u001b[0m",
      "\u001b[1;31mUnsupportedOperation\u001b[0m                      Traceback (most recent call last)",
      "\u001b[1;32m<ipython-input-50-8b4d1933ebe2>\u001b[0m in \u001b[0;36m<module>\u001b[1;34m\u001b[0m\n\u001b[0;32m      1\u001b[0m \u001b[1;32mwith\u001b[0m \u001b[0mopen\u001b[0m\u001b[1;33m(\u001b[0m\u001b[1;34m\"0 pattern.ipynb.py\"\u001b[0m\u001b[1;33m)\u001b[0m \u001b[1;32mas\u001b[0m \u001b[0mg\u001b[0m\u001b[1;33m:\u001b[0m\u001b[1;33m\u001b[0m\u001b[1;33m\u001b[0m\u001b[0m\n\u001b[1;32m----> 2\u001b[1;33m     \u001b[0mg\u001b[0m\u001b[1;33m.\u001b[0m\u001b[0mwrite\u001b[0m\u001b[1;33m(\u001b[0m\u001b[1;34m\"Test\"\u001b[0m\u001b[1;33m)\u001b[0m\u001b[1;33m\u001b[0m\u001b[1;33m\u001b[0m\u001b[0m\n\u001b[0m",
      "\u001b[1;31mUnsupportedOperation\u001b[0m: not writable"
     ]
    }
   ],
   "source": [
    "with open(\"0 pattern.ipynb.py\") as g:\n",
    "    g.write(\"Test\") "
   ]
  },
  {
   "cell_type": "markdown",
   "metadata": {},
   "source": [
    "### So in read mode we cannor ==t able to write a file"
   ]
  },
  {
   "cell_type": "code",
   "execution_count": null,
   "metadata": {},
   "outputs": [],
   "source": []
  }
 ],
 "metadata": {
  "kernelspec": {
   "display_name": "Python 3",
   "language": "python",
   "name": "python3"
  },
  "language_info": {
   "codemirror_mode": {
    "name": "ipython",
    "version": 3
   },
   "file_extension": ".py",
   "mimetype": "text/x-python",
   "name": "python",
   "nbconvert_exporter": "python",
   "pygments_lexer": "ipython3",
   "version": "3.7.5"
  }
 },
 "nbformat": 4,
 "nbformat_minor": 4
}
